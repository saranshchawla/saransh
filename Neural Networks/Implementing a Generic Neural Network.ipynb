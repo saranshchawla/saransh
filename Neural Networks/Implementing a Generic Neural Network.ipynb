{
 "cells": [
  {
   "cell_type": "code",
   "execution_count": 1,
   "metadata": {},
   "outputs": [],
   "source": [
    "import numpy as np"
   ]
  },
  {
   "cell_type": "code",
   "execution_count": 2,
   "metadata": {},
   "outputs": [
    {
     "data": {
      "text/plain": [
       "((4, 2), (4, 1))"
      ]
     },
     "execution_count": 2,
     "metadata": {},
     "output_type": "execute_result"
    }
   ],
   "source": [
    "X=np.array([[0,0],[0,1],[1,0],[1,1]])\n",
    "Y=np.array([[0,0,0,1]]).T\n",
    "X.shape,Y.shape"
   ]
  },
  {
   "cell_type": "code",
   "execution_count": 3,
   "metadata": {},
   "outputs": [],
   "source": [
    "def sig(z):\n",
    "    return 1/(1+np.exp(-z))"
   ]
  },
  {
   "cell_type": "code",
   "execution_count": 4,
   "metadata": {},
   "outputs": [],
   "source": [
    "def derivativesSig(z):\n",
    "    return sig(z)*(1-sig(z))"
   ]
  },
  {
   "cell_type": "code",
   "execution_count": 5,
   "metadata": {},
   "outputs": [],
   "source": [
    "#one hidden layer weights\n",
    "wh=2*np.random.random((2,2))-1\n",
    "bh=2*np.random.random((1,2))-1\n",
    "wo=2*np.random.random((2,1))-1\n",
    "bo=2*np.random.random((1,1))-1\n",
    "lr=0.1"
   ]
  },
  {
   "cell_type": "code",
   "execution_count": null,
   "metadata": {},
   "outputs": [],
   "source": [
    "#forward propagation without any hidden layer\n",
    "'''for iter in range(10000):\n",
    "    output0=X\n",
    "    output=sig(np.dot(output0,weights)+bias)\n",
    "    first_term=output-Y\n",
    "    input_for_last_layer=np.dot(output0,weights)+bias\n",
    "    second_term=derivativesSig(input_for_last_layer)\n",
    "    first_two=first_term*second_term\n",
    "    first_two.shape\n",
    "    \n",
    "    changes=np.dot(output0.T,first_two)\n",
    "    weights = weights-lr*changes\n",
    "    bias_change=np.sum(first_two)\n",
    "    bias=bias-lr*bias_change\n",
    "output=sig(np.dot(X,weights)+bias)\n",
    "weights,bias,output'''"
   ]
  },
  {
   "cell_type": "code",
   "execution_count": 14,
   "metadata": {},
   "outputs": [
    {
     "data": {
      "text/plain": [
       "(array([[0.00433669],\n",
       "        [0.04237587],\n",
       "        [0.04988611],\n",
       "        [0.92918229]]),\n",
       " array([[-3.07655296,  1.73466354],\n",
       "        [-3.49235504,  0.63877698]]),\n",
       " array([[ 4.54473187, -0.58305763]]),\n",
       " array([[-7.52854468],\n",
       "        [ 2.88639158]]),\n",
       " array([[0.9791224]]))"
      ]
     },
     "execution_count": 14,
     "metadata": {},
     "output_type": "execute_result"
    }
   ],
   "source": [
    "#forward propagation with one hidden layer\n",
    "for iter in range(1000):\n",
    "    output0=X\n",
    "    inputHidden=np.dot(output0,wh)+bh\n",
    "    outputHidden=sig(inputHidden)\n",
    "    inputForOutputLayer=np.dot(outputHidden,wo)+bo\n",
    "    output=sig(inputForOutputLayer)\n",
    "    \n",
    "    first_term_output_layer=output-Y\n",
    "    second_term_output_layer=derivativesSig(inputForOutputLayer)\n",
    "    first_two_output_layer=first_term_output_layer*second_term_output_layer\n",
    "    \n",
    "    first_term_hidden_layer=np.dot(first_two_output_layer,wo.T)\n",
    "    second_term_hidden_layer=derivativesSig(inputHidden)\n",
    "    first_two_hidden_layer=first_term_hidden_layer*second_term_hidden_layer\n",
    "    \n",
    "    changes_output=np.dot(outputHidden.T,first_two_output_layer)\n",
    "    changes_output_bias=np.sum(first_two_output_layer,axis=0,keepdims=True)\n",
    "    changes_hidden=np.dot(output0.T,first_two_hidden_layer)\n",
    "    changes_hidden_bias=np.sum(first_two_hidden_layer,axis=0,keepdims=True)\n",
    "    \n",
    "    wo=wo-lr*changes_output\n",
    "    bo=bo-lr*changes_output_bias\n",
    "    \n",
    "    wh=wh-lr*changes_hidden\n",
    "    bh=bh-lr*changes_hidden_bias\n",
    "    \n",
    "output0=X\n",
    "inputHidden=np.dot(output0,wh)+bh\n",
    "outputHidden=sig(inputHidden)\n",
    "inputForOutputLayer=np.dot(outputHidden,wo)+bo\n",
    "output=sig(inputForOutputLayer)\n",
    "output,wh,bh,wo,bo"
   ]
  },
  {
   "cell_type": "code",
   "execution_count": null,
   "metadata": {},
   "outputs": [],
   "source": []
  },
  {
   "cell_type": "code",
   "execution_count": null,
   "metadata": {},
   "outputs": [],
   "source": []
  },
  {
   "cell_type": "code",
   "execution_count": null,
   "metadata": {},
   "outputs": [],
   "source": []
  },
  {
   "cell_type": "code",
   "execution_count": null,
   "metadata": {},
   "outputs": [],
   "source": []
  }
 ],
 "metadata": {
  "kernelspec": {
   "display_name": "Python 3",
   "language": "python",
   "name": "python3"
  },
  "language_info": {
   "codemirror_mode": {
    "name": "ipython",
    "version": 3
   },
   "file_extension": ".py",
   "mimetype": "text/x-python",
   "name": "python",
   "nbconvert_exporter": "python",
   "pygments_lexer": "ipython3",
   "version": "3.7.6"
  }
 },
 "nbformat": 4,
 "nbformat_minor": 4
}
