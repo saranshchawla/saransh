{
 "cells": [
  {
   "cell_type": "code",
   "execution_count": 1,
   "metadata": {},
   "outputs": [],
   "source": [
    "from sklearn import datasets\n",
    "from sklearn.model_selection import train_test_split"
   ]
  },
  {
   "cell_type": "code",
   "execution_count": 3,
   "metadata": {},
   "outputs": [],
   "source": [
    "iris=datasets.load_iris()"
   ]
  },
  {
   "cell_type": "code",
   "execution_count": 4,
   "metadata": {},
   "outputs": [],
   "source": [
    "x=iris.data\n",
    "y=iris.target"
   ]
  },
  {
   "cell_type": "code",
   "execution_count": 5,
   "metadata": {},
   "outputs": [],
   "source": [
    "x_train,x_test,y_train,y_test=train_test_split(x,y)"
   ]
  },
  {
   "cell_type": "code",
   "execution_count": 6,
   "metadata": {},
   "outputs": [],
   "source": [
    "from sklearn.neural_network import MLPClassifier"
   ]
  },
  {
   "cell_type": "code",
   "execution_count": 15,
   "metadata": {},
   "outputs": [
    {
     "data": {
      "text/plain": [
       "MLPClassifier(activation='relu', alpha=0.0001, batch_size='auto', beta_1=0.9,\n",
       "              beta_2=0.999, early_stopping=False, epsilon=1e-08,\n",
       "              hidden_layer_sizes=(20,), learning_rate='constant',\n",
       "              learning_rate_init=0.001, max_fun=15000, max_iter=3000,\n",
       "              momentum=0.9, n_iter_no_change=10, nesterovs_momentum=True,\n",
       "              power_t=0.5, random_state=None, shuffle=True, solver='adam',\n",
       "              tol=0.0001, validation_fraction=0.1, verbose=False,\n",
       "              warm_start=False)"
      ]
     },
     "execution_count": 15,
     "metadata": {},
     "output_type": "execute_result"
    }
   ],
   "source": [
    "clf=MLPClassifier(hidden_layer_sizes=(20,),max_iter=3000)\n",
    "clf.fit(x_train,y_train)"
   ]
  },
  {
   "cell_type": "code",
   "execution_count": 16,
   "metadata": {},
   "outputs": [
    {
     "data": {
      "text/plain": [
       "0.9736842105263158"
      ]
     },
     "execution_count": 16,
     "metadata": {},
     "output_type": "execute_result"
    }
   ],
   "source": [
    "clf.score(x_test,y_test)"
   ]
  },
  {
   "cell_type": "code",
   "execution_count": 17,
   "metadata": {},
   "outputs": [
    {
     "data": {
      "text/plain": [
       "[array([[ 2.67860791e-01, -4.86916109e-03,  1.52161818e-22,\n",
       "         -1.03735318e-01,  5.40961923e-03,  3.95658003e-01,\n",
       "         -1.88467951e-01, -4.09754765e-02, -4.01680261e-03,\n",
       "          6.07517898e-01,  5.36665936e-01, -1.77072574e-02,\n",
       "         -2.43263888e-01,  3.83405574e-01,  4.61924993e-01,\n",
       "         -3.05264728e-01,  1.85420683e-01, -1.68744868e-01,\n",
       "          2.97087263e-01, -9.18546164e-05],\n",
       "        [-5.56618423e-01, -3.20631072e-03, -2.86450672e-02,\n",
       "          1.52648208e-01,  4.28510211e-01,  5.45455074e-01,\n",
       "          3.42604332e-01, -9.84184964e-04, -1.29961035e-02,\n",
       "         -5.54243123e-02,  6.41324835e-01, -4.81362441e-02,\n",
       "          4.70480690e-01, -7.02603802e-01,  8.54832842e-01,\n",
       "         -4.21551115e-01,  5.01220638e-01,  3.42107562e-02,\n",
       "          3.90488495e-01,  4.70712639e-13],\n",
       "        [ 8.04924381e-01,  6.85353677e-04, -3.27567807e-02,\n",
       "          3.78441748e-01,  3.23253672e-02, -4.51374586e-01,\n",
       "         -3.34617641e-01, -1.73553021e-02,  5.17937617e-03,\n",
       "         -4.11737536e-01, -6.58842613e-01, -3.15611970e-02,\n",
       "         -3.74393466e-01,  3.80082185e-01, -1.43891952e-01,\n",
       "          7.84195012e-01, -5.51752946e-01,  5.39057116e-01,\n",
       "         -5.81714240e-01, -2.86800918e-20],\n",
       "        [ 7.31143482e-01,  2.53804858e-03,  8.29248617e-05,\n",
       "          7.67111036e-01, -5.26977392e-01, -7.29925803e-01,\n",
       "          4.36205523e-01,  1.84607096e-03, -2.31963207e-02,\n",
       "         -8.04685988e-01, -6.30190796e-01, -4.70718798e-02,\n",
       "          2.75584451e-01,  6.72419036e-01, -1.09648368e-01,\n",
       "          8.89499318e-01, -6.09608344e-01,  6.11983976e-01,\n",
       "         -2.41531573e-01,  4.04387335e-13]]),\n",
       " array([[-8.22815339e-01,  1.69505007e-01,  8.98364780e-01],\n",
       "        [-3.70001624e-02,  2.92172491e-02, -8.90365264e-05],\n",
       "        [-2.98096638e-05,  7.04653600e-03, -1.90083062e-03],\n",
       "        [-1.59455379e-01, -7.43860371e-01,  2.88451037e-01],\n",
       "        [-2.31501842e-01,  9.79528325e-02, -8.85084612e-01],\n",
       "        [ 4.39353323e-01,  5.22143546e-02, -1.01823887e+00],\n",
       "        [-9.53436447e-02,  1.46635931e-01, -3.94423269e-01],\n",
       "        [ 1.21364175e-02, -3.68231860e-03, -1.28321009e-02],\n",
       "        [-3.00145109e-03,  9.01473808e-05, -1.46522134e-06],\n",
       "        [ 3.36177818e-01,  2.08311097e-01, -1.09727702e+00],\n",
       "        [ 6.08569749e-01,  6.04211224e-01, -6.59202432e-01],\n",
       "        [-3.22137032e-02,  4.43196523e-02,  9.88809856e-13],\n",
       "        [-1.26955044e-01,  3.15562361e-01,  3.83042476e-01],\n",
       "        [-4.47194523e-01,  8.96968695e-01,  7.16350906e-01],\n",
       "        [ 1.23097394e-01, -2.94971366e-03, -7.51961156e-01],\n",
       "        [-3.77405941e-01, -1.93087369e-01,  1.01957311e+00],\n",
       "        [ 6.47675106e-01, -7.35546770e-01, -4.95100305e-01],\n",
       "        [-9.33145651e-01, -2.61025073e-01,  5.64301092e-01],\n",
       "        [ 1.92774877e-01, -2.78422024e-01, -9.36257067e-01],\n",
       "        [ 1.35647022e-02,  3.73127329e-05,  3.72999554e-11]])]"
      ]
     },
     "execution_count": 17,
     "metadata": {},
     "output_type": "execute_result"
    }
   ],
   "source": [
    "clf.coefs_  #does not include baised"
   ]
  },
  {
   "cell_type": "code",
   "execution_count": 18,
   "metadata": {},
   "outputs": [
    {
     "data": {
      "text/plain": [
       "2"
      ]
     },
     "execution_count": 18,
     "metadata": {},
     "output_type": "execute_result"
    }
   ],
   "source": [
    "len(clf.coefs_)"
   ]
  },
  {
   "cell_type": "code",
   "execution_count": 19,
   "metadata": {},
   "outputs": [
    {
     "data": {
      "text/plain": [
       "array([[ 2.67860791e-01, -4.86916109e-03,  1.52161818e-22,\n",
       "        -1.03735318e-01,  5.40961923e-03,  3.95658003e-01,\n",
       "        -1.88467951e-01, -4.09754765e-02, -4.01680261e-03,\n",
       "         6.07517898e-01,  5.36665936e-01, -1.77072574e-02,\n",
       "        -2.43263888e-01,  3.83405574e-01,  4.61924993e-01,\n",
       "        -3.05264728e-01,  1.85420683e-01, -1.68744868e-01,\n",
       "         2.97087263e-01, -9.18546164e-05],\n",
       "       [-5.56618423e-01, -3.20631072e-03, -2.86450672e-02,\n",
       "         1.52648208e-01,  4.28510211e-01,  5.45455074e-01,\n",
       "         3.42604332e-01, -9.84184964e-04, -1.29961035e-02,\n",
       "        -5.54243123e-02,  6.41324835e-01, -4.81362441e-02,\n",
       "         4.70480690e-01, -7.02603802e-01,  8.54832842e-01,\n",
       "        -4.21551115e-01,  5.01220638e-01,  3.42107562e-02,\n",
       "         3.90488495e-01,  4.70712639e-13],\n",
       "       [ 8.04924381e-01,  6.85353677e-04, -3.27567807e-02,\n",
       "         3.78441748e-01,  3.23253672e-02, -4.51374586e-01,\n",
       "        -3.34617641e-01, -1.73553021e-02,  5.17937617e-03,\n",
       "        -4.11737536e-01, -6.58842613e-01, -3.15611970e-02,\n",
       "        -3.74393466e-01,  3.80082185e-01, -1.43891952e-01,\n",
       "         7.84195012e-01, -5.51752946e-01,  5.39057116e-01,\n",
       "        -5.81714240e-01, -2.86800918e-20],\n",
       "       [ 7.31143482e-01,  2.53804858e-03,  8.29248617e-05,\n",
       "         7.67111036e-01, -5.26977392e-01, -7.29925803e-01,\n",
       "         4.36205523e-01,  1.84607096e-03, -2.31963207e-02,\n",
       "        -8.04685988e-01, -6.30190796e-01, -4.70718798e-02,\n",
       "         2.75584451e-01,  6.72419036e-01, -1.09648368e-01,\n",
       "         8.89499318e-01, -6.09608344e-01,  6.11983976e-01,\n",
       "        -2.41531573e-01,  4.04387335e-13]])"
      ]
     },
     "execution_count": 19,
     "metadata": {},
     "output_type": "execute_result"
    }
   ],
   "source": [
    "clf.coefs_[0]"
   ]
  },
  {
   "cell_type": "code",
   "execution_count": 21,
   "metadata": {},
   "outputs": [
    {
     "data": {
      "text/plain": [
       "((4, 20), (20, 3))"
      ]
     },
     "execution_count": 21,
     "metadata": {},
     "output_type": "execute_result"
    }
   ],
   "source": [
    "clf.coefs_[0].shape,clf.coefs_[1].shape"
   ]
  },
  {
   "cell_type": "code",
   "execution_count": 22,
   "metadata": {},
   "outputs": [
    {
     "data": {
      "text/plain": [
       "((20,), (3,))"
      ]
     },
     "execution_count": 22,
     "metadata": {},
     "output_type": "execute_result"
    }
   ],
   "source": [
    "clf.intercepts_[0].shape,clf.intercepts_[1].shape"
   ]
  },
  {
   "cell_type": "code",
   "execution_count": null,
   "metadata": {},
   "outputs": [],
   "source": []
  }
 ],
 "metadata": {
  "kernelspec": {
   "display_name": "Python 3",
   "language": "python",
   "name": "python3"
  },
  "language_info": {
   "codemirror_mode": {
    "name": "ipython",
    "version": 3
   },
   "file_extension": ".py",
   "mimetype": "text/x-python",
   "name": "python",
   "nbconvert_exporter": "python",
   "pygments_lexer": "ipython3",
   "version": "3.7.6"
  }
 },
 "nbformat": 4,
 "nbformat_minor": 4
}
