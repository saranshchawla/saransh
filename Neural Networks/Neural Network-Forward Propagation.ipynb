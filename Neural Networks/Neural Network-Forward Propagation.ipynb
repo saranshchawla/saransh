{
 "cells": [
  {
   "cell_type": "code",
   "execution_count": 19,
   "metadata": {},
   "outputs": [],
   "source": [
    "import numpy as np"
   ]
  },
  {
   "cell_type": "code",
   "execution_count": 20,
   "metadata": {},
   "outputs": [
    {
     "data": {
      "text/plain": [
       "((4, 2), (4, 1))"
      ]
     },
     "execution_count": 20,
     "metadata": {},
     "output_type": "execute_result"
    }
   ],
   "source": [
    "X=np.array([[0,0],[0,1],[1,0],[1,1]])\n",
    "Y=np.array([[0,0,0,1]]).T\n",
    "X.shape,Y.shape"
   ]
  },
  {
   "cell_type": "code",
   "execution_count": 21,
   "metadata": {},
   "outputs": [],
   "source": [
    "def sig(z):\n",
    "    return 1/(1+np.exp(-z))"
   ]
  },
  {
   "cell_type": "code",
   "execution_count": 22,
   "metadata": {},
   "outputs": [],
   "source": [
    "def derivativesSig(z):\n",
    "    return sig(z)*(1-sig(z))"
   ]
  },
  {
   "cell_type": "code",
   "execution_count": 41,
   "metadata": {},
   "outputs": [
    {
     "data": {
      "text/plain": [
       "(array([[-0.94513109],\n",
       "        [ 0.99048106]]),\n",
       " array([0.7565769]))"
      ]
     },
     "execution_count": 41,
     "metadata": {},
     "output_type": "execute_result"
    }
   ],
   "source": [
    "#will multiply by 2 so that range becomes 0 to 2 and will subtract\n",
    "#no hidden layers\n",
    "weights=2*np.random.random((2,1)) - 1\n",
    "bias=2*np.random.random(1) - 1\n",
    "lr=0.1\n",
    "weights, bias"
   ]
  },
  {
   "cell_type": "code",
   "execution_count": 36,
   "metadata": {},
   "outputs": [
    {
     "data": {
      "text/plain": [
       "array([[0.51727158],\n",
       "       [0.73272544],\n",
       "       [0.34181461],\n",
       "       [0.57056647]])"
      ]
     },
     "execution_count": 36,
     "metadata": {},
     "output_type": "execute_result"
    }
   ],
   "source": [
    "#forward propagation without any hidden layer\n",
    "output0=X\n",
    "#actual output\n",
    "output=sig(np.dot(output0,weights)+bias)\n",
    "output"
   ]
  },
  {
   "cell_type": "code",
   "execution_count": 39,
   "metadata": {},
   "outputs": [
    {
     "data": {
      "text/plain": [
       "(array([[5.47824061],\n",
       "        [5.4782406 ]]),\n",
       " array([-8.31005829]),\n",
       " array([[2.45969186e-04],\n",
       "        [5.56288297e-02],\n",
       "        [5.56288302e-02],\n",
       "        [9.33790177e-01]]))"
      ]
     },
     "execution_count": 39,
     "metadata": {},
     "output_type": "execute_result"
    }
   ],
   "source": [
    "#implementing using formula\n",
    "for iter in range(10000):\n",
    "    output0=X\n",
    "    output=sig(np.dot(output0,weights)+bias)\n",
    "    first_term=output-Y\n",
    "    input_for_last_layer=np.dot(output0,weights)+bias\n",
    "    second_term=derivativesSig(input_for_last_layer)\n",
    "    first_two=first_term*second_term\n",
    "    first_two.shape\n",
    "    \n",
    "    changes=np.array([[0.0],[0.0]])\n",
    "    \n",
    "    for i in range(2):\n",
    "        for j in range(4):\n",
    "            changes[i][0] += first_two[j][0]*output0[j][i]\n",
    "    weights = weights-lr*changes\n",
    "    bias_change=0.0\n",
    "    for j in range(4):\n",
    "        bias_change+=first_two[j][0]*i\n",
    "    bias=bias-lr*bias_change\n",
    "output=sig(np.dot(X,weights)+bias)\n",
    "weights,bias,output"
   ]
  },
  {
   "cell_type": "code",
   "execution_count": 42,
   "metadata": {},
   "outputs": [
    {
     "data": {
      "text/plain": [
       "(array([[5.47269392],\n",
       "        [5.47269395]]),\n",
       " array([-8.30176298]),\n",
       " array([[2.48017554e-04],\n",
       "        [5.57734052e-02],\n",
       "        [5.57734033e-02],\n",
       "        [9.33616975e-01]]))"
      ]
     },
     "execution_count": 42,
     "metadata": {},
     "output_type": "execute_result"
    }
   ],
   "source": [
    "#removing the for loop and optimizing the code\n",
    "#forward propagation without any hidden layer\n",
    "for iter in range(10000):\n",
    "    output0=X\n",
    "    output=sig(np.dot(output0,weights)+bias)\n",
    "    first_term=output-Y\n",
    "    input_for_last_layer=np.dot(output0,weights)+bias\n",
    "    second_term=derivativesSig(input_for_last_layer)\n",
    "    first_two=first_term*second_term\n",
    "    first_two.shape\n",
    "    \n",
    "    changes=np.dot(output0.T,first_two)\n",
    "    weights = weights-lr*changes\n",
    "    bias_change=np.sum(first_two)\n",
    "    bias=bias-lr*bias_change\n",
    "output=sig(np.dot(X,weights)+bias)\n",
    "weights,bias,output"
   ]
  },
  {
   "cell_type": "code",
   "execution_count": 25,
   "metadata": {},
   "outputs": [],
   "source": [
    "#hidden layers\n",
    "wh=2*np.random.random((2,2))-1\n",
    "bh=2*np.random.random((1,2))-1\n",
    "wo=2*np.random.random((2,1))-1\n",
    "bo=2*np.random.random((1,1))-1"
   ]
  },
  {
   "cell_type": "code",
   "execution_count": 26,
   "metadata": {},
   "outputs": [
    {
     "data": {
      "text/plain": [
       "array([[0.40573502],\n",
       "       [0.39839406],\n",
       "       [0.38683678],\n",
       "       [0.37679794]])"
      ]
     },
     "execution_count": 26,
     "metadata": {},
     "output_type": "execute_result"
    }
   ],
   "source": [
    "output0=X\n",
    "outputHidden=sig(np.dot(output0,wh)+bh)\n",
    "output=sig(np.dot(outputHidden,wo)+bo)\n",
    "output"
   ]
  },
  {
   "cell_type": "code",
   "execution_count": null,
   "metadata": {},
   "outputs": [],
   "source": []
  },
  {
   "cell_type": "code",
   "execution_count": null,
   "metadata": {},
   "outputs": [],
   "source": []
  }
 ],
 "metadata": {
  "kernelspec": {
   "display_name": "Python 3",
   "language": "python",
   "name": "python3"
  },
  "language_info": {
   "codemirror_mode": {
    "name": "ipython",
    "version": 3
   },
   "file_extension": ".py",
   "mimetype": "text/x-python",
   "name": "python",
   "nbconvert_exporter": "python",
   "pygments_lexer": "ipython3",
   "version": "3.7.6"
  }
 },
 "nbformat": 4,
 "nbformat_minor": 4
}
